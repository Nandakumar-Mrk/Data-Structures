{
 "cells": [
  {
   "cell_type": "code",
   "execution_count": 2,
   "metadata": {},
   "outputs": [
    {
     "data": {
      "text/plain": [
       "[4, 5]"
      ]
     },
     "execution_count": 2,
     "metadata": {},
     "output_type": "execute_result"
    }
   ],
   "source": [
    "#Two Sum -\n",
    "#Given an array of integers, return indices of the \n",
    "#two numbers such that they add up to a specific target.\n",
    "\n",
    "nums = [ 2,3,11,18,4,5,9,12,15]\n",
    "\n",
    "target = 9\n",
    "\n",
    "def two1Sum(nums, target):\n",
    "    h = {}\n",
    "    for i, num in enumerate(nums):\n",
    "        n = target - num\n",
    "        if n not in h:\n",
    "            h[num] = i\n",
    "        else:\n",
    "            return [h[n], i]\n",
    "two1Sum(nums,target)"
   ]
  },
  {
   "cell_type": "code",
   "execution_count": 6,
   "metadata": {},
   "outputs": [
    {
     "data": {
      "text/plain": [
       "6"
      ]
     },
     "execution_count": 6,
     "metadata": {},
     "output_type": "execute_result"
    }
   ],
   "source": [
    "#Maximum Subarray -\n",
    "#Given an integer array nums, find the contiguous \n",
    "#subarray (containing at least one number) which \n",
    "#has the largest sum and return its sum.\n",
    "new = [-2,1,-3,4,-1,2,1,-5,4]\n",
    "\n",
    "def maxSubArray(nums):\n",
    "    t=res=0\n",
    "    for i in nums:\n",
    "        \n",
    "        if t+i<i:\n",
    "            t=i\n",
    "        else:\n",
    "            t+=i\n",
    "        res=max(res,t)\n",
    "    return res\n",
    "    \n",
    "maxSubArray(new)"
   ]
  },
  {
   "cell_type": "code",
   "execution_count": 7,
   "metadata": {},
   "outputs": [],
   "source": [
    "#Move Zeroes to End\n",
    "#Given an array nums, write a function to move all 0's to\n",
    "#the end of it while maintaining the relative order of the \n",
    "#non-zero elements.\n",
    "\n",
    "def moveZeroes(nums4):\n",
    "    i = count = 0\n",
    "    while count < len(nums4):\n",
    "        if nums4[i] == 0: \n",
    "               nums4.append(nums4.pop(i))\n",
    "        else: i += 1\n",
    "        count += 1\n",
    "            \n",
    "nums4 = [1,0,2,4,0,5]\n",
    "\n",
    "moveZeroes(nums4)"
   ]
  },
  {
   "cell_type": "code",
   "execution_count": 8,
   "metadata": {},
   "outputs": [
    {
     "data": {
      "text/plain": [
       "[1, 2, 4, 5, 0, 0]"
      ]
     },
     "execution_count": 8,
     "metadata": {},
     "output_type": "execute_result"
    }
   ],
   "source": [
    "nums4"
   ]
  },
  {
   "cell_type": "code",
   "execution_count": 9,
   "metadata": {},
   "outputs": [
    {
     "data": {
      "text/plain": [
       "True"
      ]
     },
     "execution_count": 9,
     "metadata": {},
     "output_type": "execute_result"
    }
   ],
   "source": [
    "#Find Duplicate \n",
    "#Given an array of integers, find if the array contains any duplicates.\n",
    "#Your function should return true if any value appears at least twice\n",
    "#in the array, and it should return false if every element is distinct.\n",
    "vals = [2,3,11,18,4,9,12,2]\n",
    "seen = []\n",
    "\n",
    "def find_Duplicate(vals):\n",
    "    for i in range(0, len(vals)):\n",
    "        \n",
    "        n = vals[i]\n",
    "        \n",
    "        if n not in seen:\n",
    "            seen.append(n)\n",
    "        else:\n",
    "            return True\n",
    "    return False\n",
    "       \n",
    "find_Duplicate(vals)"
   ]
  },
  {
   "cell_type": "code",
   "execution_count": 10,
   "metadata": {},
   "outputs": [],
   "source": [
    "#Rotate Array\n",
    "#Given an array, rotate the array to the right by k steps, \n",
    "#where k is non-negative\n",
    "\n",
    "nums3 = [1,2,3,4,5,6,7]\n",
    "k = 3\n",
    "\n",
    "def rotate_arry(nums3, k):\n",
    "    k %= len(nums3)\n",
    "    nums3[k:], nums3[:k] = nums3[:-k], nums3[-k:]\n",
    "    \n",
    "rotate_arry(nums3,k)"
   ]
  },
  {
   "cell_type": "code",
   "execution_count": 11,
   "metadata": {},
   "outputs": [
    {
     "data": {
      "text/plain": [
       "[5, 6, 7, 1, 2, 3, 4]"
      ]
     },
     "execution_count": 11,
     "metadata": {},
     "output_type": "execute_result"
    }
   ],
   "source": [
    "nums3"
   ]
  },
  {
   "cell_type": "code",
   "execution_count": 1,
   "metadata": {},
   "outputs": [],
   "source": [
    "#Merge two array and sort\n",
    "def mergesortedarr(a,b):\n",
    "  if len(a)==0 or len(b)==0:\n",
    "    return a+b\n",
    "\n",
    "  mylist=[]\n",
    "  i=j=0\n",
    "  \n",
    "  while i<len(a) and j<len(b):\n",
    "\n",
    "    if a[i]<=b[j]:\n",
    "      mylist.append(a[i])\n",
    "      i+=1\n",
    "\n",
    "    elif b[j]<a[i]:\n",
    "      mylist.append(b[j])\n",
    "      j+=1\n",
    "\n",
    "  return mylist+a[i:]+b[j:]\n"
   ]
  },
  {
   "cell_type": "code",
   "execution_count": 2,
   "metadata": {},
   "outputs": [
    {
     "name": "stdout",
     "output_type": "stream",
     "text": [
      "[1, 2, 3, 3, 4, 4, 5, 6, 6, 9, 11, 20, 76]\n"
     ]
    }
   ],
   "source": [
    "a=[1,3,4,6,20]\n",
    "b=[2,3,4,5,6,9,11,76]\n",
    "x=mergesortedarr(a,b)\n",
    "print(x)\n"
   ]
  },
  {
   "cell_type": "code",
   "execution_count": 3,
   "metadata": {},
   "outputs": [
    {
     "name": "stdout",
     "output_type": "stream",
     "text": [
      "gnirts a esreveR\n"
     ]
    }
   ],
   "source": [
    "#Reverse a string\n",
    "\n",
    "def reverse(string):\n",
    "  mylist=[]\n",
    "  for i in range(len(string)-1,-1,-1):\n",
    "    mylist.append(string[i])\n",
    "  return ''.join(mylist)\n",
    "\n",
    "x=reverse('Reverse a string')\n",
    "print(x)  "
   ]
  },
  {
   "cell_type": "code",
   "execution_count": 4,
   "metadata": {},
   "outputs": [
    {
     "data": {
      "text/plain": [
       "'gnirts a esreveR'"
      ]
     },
     "execution_count": 4,
     "metadata": {},
     "output_type": "execute_result"
    }
   ],
   "source": [
    "# or second option\n",
    "\n",
    "x= 'Reverse a string'\n",
    "x[::-1]\n",
    " "
   ]
  },
  {
   "cell_type": "code",
   "execution_count": null,
   "metadata": {},
   "outputs": [],
   "source": []
  }
 ],
 "metadata": {
  "kernelspec": {
   "display_name": "Python 3",
   "language": "python",
   "name": "python3"
  },
  "language_info": {
   "codemirror_mode": {
    "name": "ipython",
    "version": 3
   },
   "file_extension": ".py",
   "mimetype": "text/x-python",
   "name": "python",
   "nbconvert_exporter": "python",
   "pygments_lexer": "ipython3",
   "version": "3.7.6"
  }
 },
 "nbformat": 4,
 "nbformat_minor": 4
}
